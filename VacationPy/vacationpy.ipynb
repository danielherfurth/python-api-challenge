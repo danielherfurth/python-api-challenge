{
 "cells": [
  {
   "cell_type": "markdown",
   "metadata": {},
   "source": [
    "%%"
   ]
  },
  {
   "cell_type": "code",
   "execution_count": null,
   "metadata": {},
   "outputs": [],
   "source": [
    "import matplotlib.pyplot as plt\n",
    "import pandas as pd\n",
    "import numpy as np\n",
    "import requests\n",
    "import gmaps\n",
    "import os\n",
    "from config import g_key"
   ]
  },
  {
   "cell_type": "markdown",
   "metadata": {},
   "source": [
    "region<br>\n",
    "natively display more info in dfs in pycharm"
   ]
  },
  {
   "cell_type": "code",
   "execution_count": null,
   "metadata": {},
   "outputs": [],
   "source": [
    "pd.set_option('display.max_rows', 1000)\n",
    "pd.set_option('display.max_columns', 500)\n",
    "pd.set_option('display.width', 1000)\n",
    "# endregion"
   ]
  },
  {
   "cell_type": "markdown",
   "metadata": {},
   "source": [
    "egion<br>\n",
    "def spaceless_lowers(dataframe):<br>\n",
    "#     \n<br>\n",
    "#     Params:<br>\n",
    "#         dataframe: a dataframe with columns that have spaces and uppercase letters<br>\n",
    "#     Returns:<br>\n",
    "#         a dataframe with the spaces replaced with _ and all caps made lowercase.<br>\n",
    "    \n<br>\n",
    "    try:<br>\n",
    "        cols = dataframe.columns<br>\n",
    "        cols = [col.replace(' ', '_').lower() for col in cols]<br>\n",
    "        dataframe.columns = cols<br>\n",
    "<br>\n",
    "        return dataframe<br>\n",
    "<br>\n",
    "    except NameError:<br>\n",
    "        print('There is an unresolved reference to the dataframe in the function\\'s argument.\\n'<br>\n",
    "              'Make sure that the dataframe has been read and defined.')<br>\n",
    "<br>\n",
    "<br>\n",
    "def find_cities():<br>\n",
    "    for r, d, files in os.walk('.'):<br>\n",
    "        for name in files:<br>\n",
    "            if name == 'cities.csv':<br>\n",
    "                data = os.path.join(r, name)<br>\n",
    "                return data<br>\n",
    "<br>\n",
    "<br>\n",
    "def k_to_f(temp):<br>\n",
    "    temp = round((temp - 273.15) * 9 / 5 + 32, 2)<br>\n",
    "    return temp<br>\n",
    "<br>\n",
    "<br>\n",
    "def kmh_to_mph(speed):<br>\n",
    "    return speed * 0.621371<br>\n",
    "<br>\n",
    "<br>\n",
    "def north_or_south(latitude):<br>\n",
    "    return latitude < 0<br>\n",
    ""
   ]
  },
  {
   "cell_type": "code",
   "execution_count": null,
   "metadata": {},
   "outputs": [],
   "source": [
    "df = pd.read_csv(r'./WeatherPy/cities_2.csv')"
   ]
  },
  {
   "cell_type": "code",
   "execution_count": null,
   "metadata": {},
   "outputs": [],
   "source": [
    "df.rename(columns={'Unnamed: 0': 'city'}, inplace=True)\n",
    "df.head()"
   ]
  },
  {
   "cell_type": "code",
   "execution_count": null,
   "metadata": {},
   "outputs": [],
   "source": [
    "gmaps.configure(g_key)"
   ]
  },
  {
   "cell_type": "code",
   "execution_count": null,
   "metadata": {},
   "outputs": [],
   "source": [
    "locs = df[['lat', 'long']]\n",
    "humidity = df.humidity"
   ]
  },
  {
   "cell_type": "code",
   "execution_count": null,
   "metadata": {},
   "outputs": [],
   "source": [
    "fig_layout = {\n",
    "        'width':'1200px',\n",
    "        'height':'600px',\n",
    "        'border':'2px solid black',\n",
    "        'padding':'2px',\n",
    "        'margin':'0 auto 0 auto'\n",
    "}"
   ]
  },
  {
   "cell_type": "code",
   "execution_count": null,
   "metadata": {},
   "outputs": [],
   "source": [
    "fig = gmaps.figure(layout=fig_layout)"
   ]
  },
  {
   "cell_type": "code",
   "execution_count": null,
   "metadata": {},
   "outputs": [],
   "source": [
    "heatmap = gmaps.heatmap_layer(\n",
    "        locs,\n",
    "        weights=humidity,\n",
    "        max_intensity=df.humidity.max(),\n",
    "        dissipating=False,\n",
    "        point_radius=5\n",
    ")"
   ]
  },
  {
   "cell_type": "code",
   "execution_count": null,
   "metadata": {},
   "outputs": [],
   "source": [
    "fig.add_layer(heatmap)"
   ]
  },
  {
   "cell_type": "markdown",
   "metadata": {},
   "source": [
    "select decent weather"
   ]
  },
  {
   "cell_type": "code",
   "execution_count": null,
   "metadata": {},
   "outputs": [],
   "source": [
    "temp_mask = df['max_temp'].between(70, 90)\n",
    "humid_mask = df['humidity'].between(50, 90)\n",
    "cloud_mask = df['clouds'] < 8"
   ]
  },
  {
   "cell_type": "markdown",
   "metadata": {},
   "source": [
    "mask based on conditions"
   ]
  },
  {
   "cell_type": "code",
   "execution_count": null,
   "metadata": {},
   "outputs": [],
   "source": [
    "masked_df = df[temp_mask & humid_mask & cloud_mask]\n",
    "# print(len(masked_df))\n",
    "# check for nulls\n",
    "masked_df.isna().sum()\n",
    "len(masked_df)\n",
    "#%%\n",
    "# find hotels within 5e3 m of my locations\n",
    "hotels = []"
   ]
  },
  {
   "cell_type": "code",
   "execution_count": null,
   "metadata": {},
   "outputs": [],
   "source": [
    "for i in masked_df['city']:\n",
    "    lat = masked_df['lat']\n",
    "    long = masked_df['long']\n",
    "    coords = list(zip(lat.astype(str), long.astype(str)))\n",
    "    coords = [', '.join(coord) for coord in coords]\n",
    "    param_dict = {\n",
    "            'location': coords,\n",
    "            'radius': 5000,\n",
    "            'type': 'lodging',\n",
    "            'key': g_key\n",
    "    }\n",
    "    url_base = 'https://maps.googleapis.com/maps/api/place/nearbysearch/json'\n",
    "    try:\n",
    "        resp = requests.get(url_base, param_dict).json()\n",
    "        outputs = resp['results'][0]['name']\n",
    "        hotels.append(outputs)\n",
    "    except:\n",
    "        hotels.append(np.nan)\n",
    "        print(f'Unable to find {i}.')"
   ]
  },
  {
   "cell_type": "markdown",
   "metadata": {},
   "source": [
    "%%"
   ]
  },
  {
   "cell_type": "markdown",
   "metadata": {},
   "source": [
    "hotels_found = [resp['results'][i]['name'] for i in range(len(resp['results']))]<br>\n",
    "print(hotels_found)"
   ]
  },
  {
   "cell_type": "code",
   "execution_count": null,
   "metadata": {},
   "outputs": [],
   "source": [
    "hotel_names = [outputs[i]['name'] for i in range(len(masked_df.city))]\n",
    "print(len(hotel_names) == len(masked_df.city))\n",
    "masked_df['hotel'] = hotel_names"
   ]
  },
  {
   "cell_type": "markdown",
   "metadata": {},
   "source": [
    "%%"
   ]
  },
  {
   "cell_type": "code",
   "execution_count": null,
   "metadata": {},
   "outputs": [],
   "source": [
    "masked_df.reset_index(drop=True)\n",
    "# %%\n",
    "# Using the template add the hotel marks to the heatmap\n",
    "info_box_template = \"\"\"\n",
    "<dl>\n",
    "<dt>Name</dt><dd>{hotel}</dd>\n",
    "<dt>City</dt><dd>{city}</dd>\n",
    "<dt>Country</dt><dd>{country}</dd>\n",
    "</dl>\n",
    "\"\"\"\n",
    "# Store the DataFrame Row\n",
    "# NOTE: be sure to update with your DataFrame name\n",
    "hotel_info = [info_box_template.format(**row) for index, row in masked_df.iterrows()]\n",
    "locations = masked_df[[\"lat\", \"long\"]]\n",
    "# %%"
   ]
  },
  {
   "cell_type": "code",
   "execution_count": null,
   "metadata": {},
   "outputs": [],
   "source": [
    "markers = gmaps.marker_layer(locations, info_box_content=hotel_info)\n",
    "fig.add_layer(markers)\n",
    "# %%"
   ]
  }
 ],
 "metadata": {
  "kernelspec": {
   "name": "pycharm-50e30e5b",
   "language": "python",
   "display_name": "PyCharm (GT Data Science)"
  },
  "language_info": {
   "codemirror_mode": {
    "name": "ipython",
    "version": 3
   },
   "file_extension": ".py",
   "mimetype": "text/x-python",
   "name": "python",
   "nbconvert_exporter": "python",
   "pygments_lexer": "ipython3",
   "version": "3.6.4"
  }
 },
 "nbformat": 4,
 "nbformat_minor": 2
}