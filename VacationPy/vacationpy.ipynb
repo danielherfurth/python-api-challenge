{
 "cells": [
  {
   "cell_type": "markdown",
   "metadata": {},
   "source": [
    "%%"
   ]
  },
  {
   "cell_type": "code",
   "execution_count": 1,
   "metadata": {},
   "outputs": [],
   "source": [
    "# TODO: add comments. clean up code. put the py into ipynb and see if the figure will build\n",
    "import matplotlib.pyplot as plt\n",
    "import pandas as pd\n",
    "import numpy as np\n",
    "import requests\n",
    "import gmaps\n",
    "import os\n",
    "from config import g_key"
   ]
  },
  {
   "cell_type": "markdown",
   "metadata": {},
   "source": []
  },
  {
   "cell_type": "code",
   "execution_count": 2,
   "metadata": {},
   "outputs": [],
   "source": [
    "# natively display more pd info in pycharm\n",
    "pd.set_option('display.max_rows', 1000)\n",
    "pd.set_option('display.max_columns', 500)\n",
    "pd.set_option('display.width', 1000)\n",
    "# endregion"
   ]
  },
  {
   "cell_type": "code",
   "execution_count": 5,
   "metadata": {},
   "outputs": [],
   "source": [
    "df = pd.read_csv(r'../WeatherPy/cities_2.csv')"
   ]
  },
  {
   "cell_type": "code",
   "execution_count": 6,
   "metadata": {},
   "outputs": [
    {
     "data": {
      "text/plain": "            city      lat      long  max_temp  humidity  wind_speed  clouds                   country          dt  is_south\n0      gushikawa  26.3544  127.8686     70.83        72    4.629214      34                     Japan  1635184942         0\n1   punta arenas -53.1500  -70.9167     42.82        70    7.350819      40                     Chile  1635184753         1\n2  west wendover  40.7391 -114.0733     60.94        50    2.970153     100  United States of America  1635184887         0\n3      cape town -33.9258   18.4232     68.34        63    0.832637      13              South Africa  1635184933         1\n4      busselton -33.6500  115.3333     41.04        71    1.217887      73                 Australia  1635184942         1",
      "text/html": "<div>\n<style scoped>\n    .dataframe tbody tr th:only-of-type {\n        vertical-align: middle;\n    }\n\n    .dataframe tbody tr th {\n        vertical-align: top;\n    }\n\n    .dataframe thead th {\n        text-align: right;\n    }\n</style>\n<table border=\"1\" class=\"dataframe\">\n  <thead>\n    <tr style=\"text-align: right;\">\n      <th></th>\n      <th>city</th>\n      <th>lat</th>\n      <th>long</th>\n      <th>max_temp</th>\n      <th>humidity</th>\n      <th>wind_speed</th>\n      <th>clouds</th>\n      <th>country</th>\n      <th>dt</th>\n      <th>is_south</th>\n    </tr>\n  </thead>\n  <tbody>\n    <tr>\n      <th>0</th>\n      <td>gushikawa</td>\n      <td>26.3544</td>\n      <td>127.8686</td>\n      <td>70.83</td>\n      <td>72</td>\n      <td>4.629214</td>\n      <td>34</td>\n      <td>Japan</td>\n      <td>1635184942</td>\n      <td>0</td>\n    </tr>\n    <tr>\n      <th>1</th>\n      <td>punta arenas</td>\n      <td>-53.1500</td>\n      <td>-70.9167</td>\n      <td>42.82</td>\n      <td>70</td>\n      <td>7.350819</td>\n      <td>40</td>\n      <td>Chile</td>\n      <td>1635184753</td>\n      <td>1</td>\n    </tr>\n    <tr>\n      <th>2</th>\n      <td>west wendover</td>\n      <td>40.7391</td>\n      <td>-114.0733</td>\n      <td>60.94</td>\n      <td>50</td>\n      <td>2.970153</td>\n      <td>100</td>\n      <td>United States of America</td>\n      <td>1635184887</td>\n      <td>0</td>\n    </tr>\n    <tr>\n      <th>3</th>\n      <td>cape town</td>\n      <td>-33.9258</td>\n      <td>18.4232</td>\n      <td>68.34</td>\n      <td>63</td>\n      <td>0.832637</td>\n      <td>13</td>\n      <td>South Africa</td>\n      <td>1635184933</td>\n      <td>1</td>\n    </tr>\n    <tr>\n      <th>4</th>\n      <td>busselton</td>\n      <td>-33.6500</td>\n      <td>115.3333</td>\n      <td>41.04</td>\n      <td>71</td>\n      <td>1.217887</td>\n      <td>73</td>\n      <td>Australia</td>\n      <td>1635184942</td>\n      <td>1</td>\n    </tr>\n  </tbody>\n</table>\n</div>"
     },
     "execution_count": 6,
     "metadata": {},
     "output_type": "execute_result"
    }
   ],
   "source": [
    "df.rename(columns={'Unnamed: 0': 'city'}, inplace=True)\n",
    "df.head()"
   ]
  },
  {
   "cell_type": "code",
   "execution_count": 7,
   "metadata": {},
   "outputs": [],
   "source": [
    "gmaps.configure(g_key)"
   ]
  },
  {
   "cell_type": "code",
   "execution_count": 8,
   "metadata": {},
   "outputs": [],
   "source": [
    "locs = df[['lat', 'long']]\n",
    "humidity = df.humidity"
   ]
  },
  {
   "cell_type": "code",
   "execution_count": 9,
   "metadata": {},
   "outputs": [],
   "source": [
    "fig_layout = {\n",
    "        'width':'1200px',\n",
    "        'height':'600px',\n",
    "        'border':'2px solid black',\n",
    "        'padding':'2px',\n",
    "        'margin':'0 auto 0 auto'\n",
    "}"
   ]
  },
  {
   "cell_type": "code",
   "execution_count": 10,
   "metadata": {},
   "outputs": [],
   "source": [
    "fig = gmaps.figure(layout=fig_layout)"
   ]
  },
  {
   "cell_type": "code",
   "execution_count": 11,
   "metadata": {},
   "outputs": [],
   "source": [
    "heatmap = gmaps.heatmap_layer(\n",
    "        locs,\n",
    "        weights=humidity,\n",
    "        max_intensity=df.humidity.max(),\n",
    "        dissipating=False,\n",
    "        point_radius=5\n",
    ")"
   ]
  },
  {
   "cell_type": "code",
   "execution_count": 13,
   "metadata": {},
   "outputs": [
    {
     "data": {
      "text/plain": "Figure(layout=FigureLayout(border='2px solid black', height='600px', margin='0 auto 0 auto', padding='2px', wi…",
      "application/vnd.jupyter.widget-view+json": {
       "version_major": 2,
       "version_minor": 0,
       "model_id": "1782042a3cf54176b9317e457d19a115"
      }
     },
     "metadata": {},
     "output_type": "display_data"
    }
   ],
   "source": [
    "fig.add_layer(heatmap)\n",
    "fig"
   ]
  },
  {
   "cell_type": "markdown",
   "metadata": {},
   "source": [
    "select decent weather"
   ]
  },
  {
   "cell_type": "code",
   "execution_count": null,
   "metadata": {},
   "outputs": [],
   "source": [
    "temp_mask = df['max_temp'].between(70, 90)\n",
    "humid_mask = df['humidity'].between(50, 90)\n",
    "cloud_mask = df['clouds'] < 8"
   ]
  },
  {
   "cell_type": "markdown",
   "metadata": {},
   "source": [
    "mask based on conditions"
   ]
  },
  {
   "cell_type": "code",
   "execution_count": null,
   "metadata": {},
   "outputs": [],
   "source": [
    "masked_df = df[temp_mask & humid_mask & cloud_mask]\n",
    "\n",
    "# check for nulls\n",
    "print(len(masked_df))"
   ]
  },
  {
   "cell_type": "code",
   "execution_count": null,
   "metadata": {},
   "outputs": [],
   "source": [
    "masked_df.isna().sum()\n",
    "len(masked_df)"
   ]
  },
  {
   "cell_type": "markdown",
   "metadata": {},
   "source": [
    "find hotels within 5e3 m of my locations"
   ]
  },
  {
   "cell_type": "code",
   "execution_count": null,
   "metadata": {},
   "outputs": [],
   "source": [
    "hotels = []"
   ]
  },
  {
   "cell_type": "code",
   "execution_count": null,
   "metadata": {},
   "outputs": [],
   "source": [
    "for i in masked_df['city']:\n",
    "    lat = masked_df['lat']\n",
    "    long = masked_df['long']\n",
    "    coords = list(zip(lat.astype(str), long.astype(str)))\n",
    "    coords = [', '.join(coord) for coord in coords]\n",
    "    param_dict = {\n",
    "            'location': coords,\n",
    "            'radius': 5000,\n",
    "            'type': 'lodging',\n",
    "            'key': g_key\n",
    "    }\n",
    "    url_base = 'https://maps.googleapis.com/maps/api/place/nearbysearch/json'\n",
    "    try:\n",
    "        resp = requests.get(url_base, param_dict).json()\n",
    "        outputs = resp['results'][0]['name']\n",
    "        hotels.append(outputs)\n",
    "    except:\n",
    "        hotels.append(np.nan)\n",
    "        print(f'Unable to find {i}.')"
   ]
  },
  {
   "cell_type": "code",
   "execution_count": null,
   "metadata": {},
   "outputs": [],
   "source": [
    "hotel_names = [outputs[i]['name'] for i in range(len(masked_df.city))]\n",
    "print(len(hotel_names) == len(masked_df.city))\n",
    "masked_df['hotel'] = hotel_names"
   ]
  },
  {
   "cell_type": "code",
   "execution_count": null,
   "metadata": {},
   "outputs": [],
   "source": [
    "masked_df.reset_index(drop=True)"
   ]
  },
  {
   "cell_type": "markdown",
   "metadata": {},
   "source": [
    "Using the template add the hotel marks to the heatmap"
   ]
  },
  {
   "cell_type": "markdown",
   "metadata": {},
   "source": [
    "info_box_template = \n<br>\n",
    "<dl><br>\n",
    "<dt>Name</dt><dd>{hotel}</dd><br>\n",
    "<dt>City</dt><dd>{city}</dd><br>\n",
    "<dt>Country</dt><dd>{country}</dd><br>\n",
    "</dl><br>\n",
    "<br>\n",
    "Store the DataFrame Row<br>\n",
    "NOTE: be sure to update with your DataFrame name"
   ]
  },
  {
   "cell_type": "code",
   "execution_count": null,
   "metadata": {},
   "outputs": [],
   "source": [
    "hotel_info = [info_box_template.format(**row) for index, row in masked_df.iterrows()]\n",
    "locations = masked_df[[\"lat\", \"long\"]]"
   ]
  },
  {
   "cell_type": "code",
   "execution_count": null,
   "metadata": {},
   "outputs": [],
   "source": [
    "markers = gmaps.marker_layer(locations, info_box_content=hotel_info)\n",
    "fig.add_layer(markers)"
   ]
  }
 ],
 "metadata": {
  "kernelspec": {
   "name": "pycharm-50e30e5b",
   "language": "python",
   "display_name": "PyCharm (GT Data Science)"
  },
  "language_info": {
   "codemirror_mode": {
    "name": "ipython",
    "version": 3
   },
   "file_extension": ".py",
   "mimetype": "text/x-python",
   "name": "python",
   "nbconvert_exporter": "python",
   "pygments_lexer": "ipython3",
   "version": "3.6.4"
  }
 },
 "nbformat": 4,
 "nbformat_minor": 2
}